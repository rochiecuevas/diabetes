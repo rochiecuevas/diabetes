{
 "cells": [
  {
   "cell_type": "markdown",
   "metadata": {},
   "source": [
    "## Extract data from csv files"
   ]
  },
  {
   "cell_type": "code",
   "execution_count": null,
   "metadata": {},
   "outputs": [],
   "source": [
    "# Dependencies\n",
    "import pandas as pd"
   ]
  },
  {
   "cell_type": "code",
   "execution_count": null,
   "metadata": {
    "scrolled": true
   },
   "outputs": [],
   "source": [
    "# Load CSV file as dataframe\n",
    "nutr_df = pd.read_csv(\"Resources/Nutrition__Physical_Activity__and_Obesity_-_Women__Infant__and_Child.csv\")\n",
    "nutr_df.head()"
   ]
  },
  {
   "cell_type": "markdown",
   "metadata": {},
   "source": [
    "## Transform data"
   ]
  },
  {
   "cell_type": "code",
   "execution_count": null,
   "metadata": {},
   "outputs": [],
   "source": [
    "# Get a list of column headers\n",
    "list(nutr_df)"
   ]
  },
  {
   "cell_type": "code",
   "execution_count": null,
   "metadata": {},
   "outputs": [],
   "source": [
    "# Get the relevant columns\n",
    "nutr_df2 = nutr_df[[\"YearEnd\", \"LocationAbbr\", \"LocationDesc\", \"Question\", \"Data_Value\", \n",
    "                    \"StratificationID1\"]]\n",
    "nutr_df2.head()"
   ]
  },
  {
   "cell_type": "code",
   "execution_count": null,
   "metadata": {},
   "outputs": [],
   "source": [
    "# Choose data for 2010, 2012, and 2014\n",
    "Years = [2010, 2012, 2014]\n",
    "\n",
    "nutr_df3 = nutr_df2[nutr_df2[\"YearEnd\"].isin(Years)]\n",
    "nutr_df3.head()"
   ]
  },
  {
   "cell_type": "code",
   "execution_count": null,
   "metadata": {},
   "outputs": [],
   "source": [
    "# Choose data with no stratification (stratification ID1 = \"overall\") \n",
    "# and choose values for obese children 2-4 yo\n",
    "nutr_df4 = nutr_df3.query(\"StratificationID1 == 'OVERALL'& \\\n",
    "                          Question == 'Percent of WIC children aged 2 to 4 years who have obesity'\")\n",
    "nutr_df4.head()"
   ]
  },
  {
   "cell_type": "code",
   "execution_count": null,
   "metadata": {},
   "outputs": [],
   "source": [
    "# Further clean the dataset\n",
    "nutr_df4 = nutr_df4[[\"YearEnd\", \"LocationDesc\", \"Data_Value\"]]\n",
    "\n",
    "# Rename the remaining columns\n",
    "nutr_df4 = nutr_df4.rename(columns = {\"YearEnd\": \"Year\",\n",
    "                                      \"LocationDesc\": \"US_State\",\n",
    "                                      \"Data_Value\": \"Obese_Children_%\"})\n",
    "\n",
    "# Preview the dataframe\n",
    "nutr_df4.head()"
   ]
  },
  {
   "cell_type": "code",
   "execution_count": null,
   "metadata": {},
   "outputs": [],
   "source": [
    "# Create a table of Location Abbreviations and Descriptions (unique values only)\n",
    "location = nutr_df4[[\"US_State\"]].drop_duplicates()\n",
    "\n",
    "# Preview the dataframe\n",
    "location"
   ]
  },
  {
   "cell_type": "markdown",
   "metadata": {},
   "source": [
    "## Load data into database"
   ]
  },
  {
   "cell_type": "code",
   "execution_count": null,
   "metadata": {},
   "outputs": [],
   "source": [
    "# Dependencies\n",
    "from sqlalchemy import create_engine\n",
    "from config import password"
   ]
  },
  {
   "cell_type": "code",
   "execution_count": null,
   "metadata": {},
   "outputs": [],
   "source": [
    "# Create a connection to the database\n",
    "conn = \"root:{0}@localhost:3306/diabetes_db\".format(password) # Password is in a separate file\n",
    "engine = create_engine(f\"mysql://{conn}\")"
   ]
  },
  {
   "cell_type": "code",
   "execution_count": null,
   "metadata": {},
   "outputs": [],
   "source": [
    "# Confirm presence of tables\n",
    "engine.table_names()"
   ]
  },
  {
   "cell_type": "code",
   "execution_count": null,
   "metadata": {},
   "outputs": [],
   "source": [
    "# Load dataframes into tables\n",
    "location.to_sql(name = \"location\", con = engine, if_exists = \"replace\", index = False)\n",
    "nutr_df4.to_sql(name = \"nutrition\", con = engine, if_exists = \"replace\", index = False)"
   ]
  },
  {
   "cell_type": "code",
   "execution_count": null,
   "metadata": {},
   "outputs": [],
   "source": [
    "# Read the table contents (for location)\n",
    "pd.read_sql_query(\"select * from location\").head()"
   ]
  },
  {
   "cell_type": "code",
   "execution_count": null,
   "metadata": {},
   "outputs": [],
   "source": [
    "# Read the table contents (for nutrition)\n",
    "pd.read_sql_query(\"select * from nutrition\").head()"
   ]
  }
 ],
 "metadata": {
  "kernelspec": {
   "display_name": "Python 3",
   "language": "python",
   "name": "python3"
  },
  "language_info": {
   "codemirror_mode": {
    "name": "ipython",
    "version": 3
   },
   "file_extension": ".py",
   "mimetype": "text/x-python",
   "name": "python",
   "nbconvert_exporter": "python",
   "pygments_lexer": "ipython3",
   "version": "3.6.5"
  }
 },
 "nbformat": 4,
 "nbformat_minor": 2
}
